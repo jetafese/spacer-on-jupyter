{
 "cells": [
  {
   "attachments": {},
   "cell_type": "markdown",
   "metadata": {},
   "source": [
    "# Setup"
   ]
  },
  {
   "cell_type": "code",
   "execution_count": 3,
   "metadata": {},
   "outputs": [
    {
     "name": "stdout",
     "output_type": "stream",
     "text": [
      "Using local versionof spacer_tutorial package\n"
     ]
    }
   ],
   "source": [
    "import sys\n",
    "import os.path\n",
    "import importlib.util\n",
    "\n",
    "# insert path to the local version of spacer_tutorial package into pythonpath\n",
    "if os.path.exists(\"src/spacer_tutorial/\"):\n",
    "    sys.path.append(os.path.abspath(\"src\"))\n",
    "    print(\"Using local versionof spacer_tutorial package\")\n",
    "\n",
    "# install z3 if needed\n",
    "if importlib.util.find_spec('z3') is None:\n",
    "    !{sys.executable} -m pip install z3-solver\n",
    "# install spacer_tutorial if needed\n",
    "if importlib.util.find_spec('spacer_tutorial') is None:\n",
    "    !{sys.executable} -m pip install spacer-tutorial"
   ]
  },
  {
   "cell_type": "code",
   "execution_count": 4,
   "metadata": {},
   "outputs": [],
   "source": [
    "import sys\n",
    "import z3\n",
    "from spacer_tutorial import *\n",
    "\n",
    "# proof mode must be enabled before any expressions are created\n",
    "z3.set_param(proof=True)\n",
    "z3.set_param(model=True)\n",
    "# print expressions with HTML\n",
    "z3.set_html_mode(True)"
   ]
  },
  {
   "cell_type": "code",
   "execution_count": 5,
   "metadata": {},
   "outputs": [],
   "source": [
    "def vc_gen(T):\n",
    "    '''Verification Condition (VC) for an Inductive Invariant'''\n",
    "    Inv = z3.Function('Inv', *(T.sig() + [z3.BoolSort()]))\n",
    "\n",
    "    InvPre = Inv(*T.pre_vars())\n",
    "    InvPost = Inv(*T.post_vars())\n",
    "    print ('pres', T.pre_vars())\n",
    "    print ('post', T.post_vars())\n",
    "    print ('inputs', T.inputs())\n",
    "\n",
    "    all_vars = T.all()\n",
    "    vc_init = z3.ForAll(all_vars, z3.Implies(T.Init, InvPre))\n",
    "    vc_ind = z3.ForAll(all_vars, z3.Implies(z3.And(InvPre, T.Tr), InvPost))\n",
    "    vc_bad = z3.ForAll(all_vars, z3.Implies(z3.And(InvPre, T.Bad), z3.BoolVal(False)))\n",
    "    return [vc_init, vc_ind, vc_bad], InvPre"
   ]
  },
  {
   "attachments": {},
   "cell_type": "markdown",
   "metadata": {},
   "source": [
    "# Challenge 1"
   ]
  },
  {
   "cell_type": "code",
   "execution_count": 27,
   "metadata": {},
   "outputs": [],
   "source": [
    "# def mk_ts_challenge_1(safe=True):\n",
    "#     T = Ts('Ts0')\n",
    "#     x, x_out = T.add_var(z3.IntSort(), name='x')\n",
    "#     y, y_out = T.add_var(z3.IntSort(), name='y')\n",
    "#     T.Init = z3.And(x == 0, y == 5000)\n",
    "#     T.Tr = z3.And(x < y, x_out == x + 1, y_out == z3.If(x >= 5000, y + 1, y))\n",
    "#     # T.Tr = z3.And(z3.Or((y - x) >= 1), x_out == x + 1, y_out == z3.If(x >= 5000, y + 1, y))\n",
    "#     if safe:\n",
    "#         T.Bad = z3.And(x == 10000, z3.Not(x == y))\n",
    "#         # T.Bad = z3.And(z3.Not(x == y))\n",
    "#     else:\n",
    "#         T.Bad = z3.Not(z3.And(x == 10000, z3.Not(x == y)))\n",
    "#     return T\n",
    "def mk_ts_challenge_1(safe=True):\n",
    "    T = Ts('Ts0')\n",
    "    N = 5000\n",
    "    M = N * 2\n",
    "    x, x_out = T.add_var(z3.IntSort(), name='x')\n",
    "    y, y_out = T.add_var(z3.IntSort(), name='y')\n",
    "    T.Init = z3.And(x == 0, y == N)\n",
    "    T.Tr = z3.And(z3.Or(x >= N, x < y), z3.Or(x < N, x == y), x_out == x + 1, y_out == z3.If(x >= N, y + 1, y))\n",
    "    if safe:\n",
    "        T.Bad = z3.And(x == M, z3.Not(y == x))\n",
    "    else:\n",
    "        T.Bad = z3.Not(z3.And(x == M, z3.Not(y == x)))\n",
    "    return T"
   ]
  },
  {
   "attachments": {},
   "cell_type": "markdown",
   "metadata": {},
   "source": [
    "## safe\n"
   ]
  },
  {
   "cell_type": "code",
   "execution_count": 28,
   "metadata": {},
   "outputs": [
    {
     "name": "stdout",
     "output_type": "stream",
     "text": [
      "pres [x, y]\n",
      "post [x', y']\n",
      "inputs []\n"
     ]
    },
    {
     "data": {
      "text/html": [
       "&forall;x, y, x', y' : x = 0 &and; y = 5000 &rArr; Inv(x, y) <br/><br/>&forall;x, y, x', y' :<br/> Inv(x, y) &and;<br/> (x &ge; 5000 &or; x &lt; y) &and;<br/> (x &lt; 5000 &or; x = y) &and;<br/> x' = x + 1 &and;<br/> y' = If(x &ge; 5000, y + 1, y) &rArr;<br/> Inv(x', y') <br/><br/>&forall;x, y, x', y' : Inv(x, y) &and; x = 10000 &and; &not;(y = x) &rArr; False <br/><br/>"
      ],
      "text/plain": [
       "\"&forall;x, y, x', y' : x = 0 &and; y = 5000 &rArr; Inv(x, y) <br/><br/>&forall;x, y, x', y' :<br/> Inv(x, y) &and;<br/> (x &ge; 5000 &or; x &lt; y) &and;<br/> (x &lt; 5000 &or; x = y) &and;<br/> x' = x + 1 &and;<br/> y' = If(x &ge; 5000, y + 1, y) &rArr;<br/> Inv(x', y') <br/><br/>&forall;x, y, x', y' : Inv(x, y) &and; x = 10000 &and; &not;(y = x) &rArr; False <br/><br/>\""
      ]
     },
     "execution_count": 28,
     "metadata": {},
     "output_type": "execute_result"
    }
   ],
   "source": [
    "ts_challenge_1 = mk_ts_challenge_1(safe=True)\n",
    "HtmlStr(ts_challenge_1)\n",
    "vc_challenge_1, inv_challenge_1 = vc_gen(ts_challenge_1)\n",
    "chc_to_str(vc_challenge_1)"
   ]
  },
  {
   "cell_type": "code",
   "execution_count": 29,
   "metadata": {},
   "outputs": [
    {
     "name": "stdout",
     "output_type": "stream",
     "text": [
      "<b>sat</b>\n"
     ]
    },
    {
     "data": {
      "text/html": [
       "(10000 &ge; x &rArr; 10000 &ge; y) &and; (9999 &ge; y &rArr; 9999 &ge; x)"
      ],
      "text/plain": [
       "(10000 &ge; x &rArr; 10000 &ge; y) &and; (9999 &ge; y &rArr; 9999 &ge; x)"
      ]
     },
     "execution_count": 29,
     "metadata": {},
     "output_type": "execute_result"
    }
   ],
   "source": [
    "res_challenge_1, answer_challenge_1 = solve_horn(vc_challenge_1, max_unfold=40)\n",
    "print (res_challenge_1)\n",
    "push_not(answer_challenge_1.eval(inv_challenge_1))"
   ]
  },
  {
   "cell_type": "code",
   "execution_count": 30,
   "metadata": {},
   "outputs": [
    {
     "data": {
      "text/html": [
       "(&not;(x &le; 10000) &or; &not;(y &ge; 10001)) &and; (&not;(y &le; 9999) &or; &not;(x &ge; 10000))"
      ],
      "text/plain": [
       "(&not;(x &le; 10000) &or; &not;(y &ge; 10001)) &and; (&not;(y &le; 9999) &or; &not;(x &ge; 10000))"
      ]
     },
     "execution_count": 30,
     "metadata": {},
     "output_type": "execute_result"
    }
   ],
   "source": [
    "# solver = z3.solve(res_challenge_1)\n",
    "# z3.solve(answer_challenge_1.eval(inv_challenge_1))\n",
    "answer_challenge_1.eval(inv_challenge_1)"
   ]
  },
  {
   "attachments": {},
   "cell_type": "markdown",
   "metadata": {},
   "source": [
    "5000 ≥ y ∧ 9998 ≥ x\n",
    "(9999 ≥ y ⇒ 9999 ≥ x) ∧ 5000 ≥ y\n",
    "9998 ≥ x ∧ 5000 ≥ y"
   ]
  },
  {
   "attachments": {},
   "cell_type": "markdown",
   "metadata": {},
   "source": [
    "## unsafe"
   ]
  },
  {
   "cell_type": "code",
   "execution_count": 9,
   "metadata": {},
   "outputs": [
    {
     "data": {
      "text/html": [
       "Transition System: Ts0<br/>\tInit: x = 0 &and; y = 5000<br/>\tBad: &not;(x = 10000 &and; &not;(y = x))<br/>\tTr: (x &ge; 5000 &or; x &lt; y) &and;<br/>(x &lt; 5000 &or; x = y) &and;<br/>x' = x + 1 &and;<br/>y' = If(x &ge; 5000, y + 1, y)"
      ],
      "text/plain": [
       "\"Transition System: Ts0<br/>\\tInit: x = 0 &and; y = 5000<br/>\\tBad: &not;(x = 10000 &and; &not;(y = x))<br/>\\tTr: (x &ge; 5000 &or; x &lt; y) &and;<br/>(x &lt; 5000 &or; x = y) &and;<br/>x' = x + 1 &and;<br/>y' = If(x &ge; 5000, y + 1, y)\""
      ]
     },
     "execution_count": 9,
     "metadata": {},
     "output_type": "execute_result"
    }
   ],
   "source": [
    "ts_challenge_1_unsafe = mk_ts_challenge_1(safe=False)\n",
    "HtmlStr(ts_challenge_1_unsafe)"
   ]
  },
  {
   "cell_type": "code",
   "execution_count": 10,
   "metadata": {},
   "outputs": [
    {
     "name": "stdout",
     "output_type": "stream",
     "text": [
      "pres [x, y]\n",
      "post [x', y']\n",
      "inputs []\n"
     ]
    },
    {
     "data": {
      "text/html": [
       "<b>unsat</b>"
      ],
      "text/plain": [
       "'<b>unsat</b>'"
      ]
     },
     "execution_count": 10,
     "metadata": {},
     "output_type": "execute_result"
    }
   ],
   "source": [
    "vc, inv = vc_gen(ts_challenge_1_unsafe)\n",
    "res, answer = solve_horn(vc)\n",
    "HtmlStr(res)"
   ]
  },
  {
   "cell_type": "code",
   "execution_count": 11,
   "metadata": {},
   "outputs": [
    {
     "data": {
      "image/svg+xml": [
       "<?xml version=\"1.0\" encoding=\"UTF-8\" standalone=\"no\"?>\n",
       "<!DOCTYPE svg PUBLIC \"-//W3C//DTD SVG 1.1//EN\"\n",
       " \"http://www.w3.org/Graphics/SVG/1.1/DTD/svg11.dtd\">\n",
       "<!-- Generated by graphviz version 7.1.0 (20230121.1956)\n",
       " -->\n",
       "<!-- Pages: 1 -->\n",
       "<svg width=\"159pt\" height=\"116pt\"\n",
       " viewBox=\"0.00 0.00 158.79 116.00\" xmlns=\"http://www.w3.org/2000/svg\" xmlns:xlink=\"http://www.w3.org/1999/xlink\">\n",
       "<g id=\"graph0\" class=\"graph\" transform=\"scale(1 1) rotate(0) translate(4 112)\">\n",
       "<polygon fill=\"white\" stroke=\"none\" points=\"-4,4 -4,-112 154.79,-112 154.79,4 -4,4\"/>\n",
       "<!-- 503 -->\n",
       "<g id=\"node1\" class=\"node\">\n",
       "<title>503</title>\n",
       "<ellipse fill=\"none\" stroke=\"black\" cx=\"75.39\" cy=\"-18\" rx=\"75.29\" ry=\"18\"/>\n",
       "<text text-anchor=\"middle\" x=\"75.39\" y=\"-14.3\" font-family=\"Times,serif\" font-size=\"14.00\">query!13(0, 5000)</text>\n",
       "</g>\n",
       "<!-- 160 -->\n",
       "<g id=\"node2\" class=\"node\">\n",
       "<title>160</title>\n",
       "<ellipse fill=\"none\" stroke=\"black\" cx=\"75.39\" cy=\"-90\" rx=\"55.49\" ry=\"18\"/>\n",
       "<text text-anchor=\"middle\" x=\"75.39\" y=\"-86.3\" font-family=\"Times,serif\" font-size=\"14.00\">Inv(0, 5000)</text>\n",
       "</g>\n",
       "<!-- 160&#45;&gt;503 -->\n",
       "<g id=\"edge1\" class=\"edge\">\n",
       "<title>160&#45;&gt;503</title>\n",
       "<path fill=\"none\" stroke=\"black\" d=\"M75.39,-71.7C75.39,-64.41 75.39,-55.73 75.39,-47.54\"/>\n",
       "<polygon fill=\"black\" stroke=\"black\" points=\"78.89,-47.62 75.39,-37.62 71.89,-47.62 78.89,-47.62\"/>\n",
       "</g>\n",
       "</g>\n",
       "</svg>\n"
      ],
      "text/plain": [
       "<spacer_tutorial.proof.SpacerProof at 0x110143370>"
      ]
     },
     "execution_count": 11,
     "metadata": {},
     "output_type": "execute_result"
    }
   ],
   "source": [
    "sp = SpacerProof(answer)\n",
    "sp"
   ]
  },
  {
   "attachments": {},
   "cell_type": "markdown",
   "metadata": {},
   "source": [
    "# Challenge 2"
   ]
  },
  {
   "cell_type": "code",
   "execution_count": 12,
   "metadata": {},
   "outputs": [],
   "source": [
    "def mk_ts_challenge_2(safe=True):\n",
    "    T = Ts('Ts0')\n",
    "    x, x_out = T.add_var(z3.IntSort(), name='x')\n",
    "    y, y_out = T.add_var(z3.IntSort(), name='y')\n",
    "    T.Init = z3.And(x == 0, y == 0)\n",
    "    T.Tr = z3.And(x >= 0 , y >= 0, z3.Or((x % 2) == 0, x == (y + y)), z3.Or((x % 2) == 1, x == (1 + y + y)), x_out == x + 1, y_out == z3.If((x % 2) == 0, y + 1, y))\n",
    "    if safe:\n",
    "        T.Bad = z3.And(x == 2 * 1351235, z3.Not(y == 1351235))\n",
    "    else:\n",
    "        T.Bad = z3.Not(z3.And(x == 2 * 1351235, z3.Not(y == 1351235)))\n",
    "    return T"
   ]
  },
  {
   "attachments": {},
   "cell_type": "markdown",
   "metadata": {},
   "source": [
    "## safe\n"
   ]
  },
  {
   "cell_type": "code",
   "execution_count": 13,
   "metadata": {},
   "outputs": [
    {
     "name": "stdout",
     "output_type": "stream",
     "text": [
      "pres [x, y]\n",
      "post [x', y']\n",
      "inputs []\n"
     ]
    },
    {
     "data": {
      "text/html": [
       "&forall;x, y, x', y' : x = 0 &and; y = 0 &rArr; Inv(x, y) <br/><br/>&forall;x, y, x', y' :<br/> Inv(x, y) &and;<br/> x &ge; 0 &and;<br/> y &ge; 0 &and;<br/> (x%2 = 0 &or; x = y + y) &and;<br/> (x%2 = 1 &or; x = 1 + y + y) &and;<br/> x' = x + 1 &and;<br/> y' = If(x%2 = 0, y + 1, y) &rArr;<br/> Inv(x', y') <br/><br/>&forall;x, y, x', y' :<br/> Inv(x, y) &and; x = 2702470 &and; &not;(y = 1351235) &rArr; False <br/><br/>"
      ],
      "text/plain": [
       "\"&forall;x, y, x', y' : x = 0 &and; y = 0 &rArr; Inv(x, y) <br/><br/>&forall;x, y, x', y' :<br/> Inv(x, y) &and;<br/> x &ge; 0 &and;<br/> y &ge; 0 &and;<br/> (x%2 = 0 &or; x = y + y) &and;<br/> (x%2 = 1 &or; x = 1 + y + y) &and;<br/> x' = x + 1 &and;<br/> y' = If(x%2 = 0, y + 1, y) &rArr;<br/> Inv(x', y') <br/><br/>&forall;x, y, x', y' :<br/> Inv(x, y) &and; x = 2702470 &and; &not;(y = 1351235) &rArr; False <br/><br/>\""
      ]
     },
     "execution_count": 13,
     "metadata": {},
     "output_type": "execute_result"
    }
   ],
   "source": [
    "ts_challenge_2 = mk_ts_challenge_2(safe=True)\n",
    "HtmlStr(ts_challenge_2)\n",
    "vc_challenge_2, inv_challenge_2 = vc_gen(ts_challenge_2)\n",
    "chc_to_str(vc_challenge_2)"
   ]
  },
  {
   "cell_type": "code",
   "execution_count": 14,
   "metadata": {},
   "outputs": [
    {
     "name": "stdout",
     "output_type": "stream",
     "text": [
      "<b>sat</b>\n"
     ]
    },
    {
     "data": {
      "text/html": [
       "(2702470 &ge; x &rArr; 1351235 &ge; y) &and; (1351234 &ge; y &rArr; 2702469 &ge; x)"
      ],
      "text/plain": [
       "(2702470 &ge; x &rArr; 1351235 &ge; y) &and; (1351234 &ge; y &rArr; 2702469 &ge; x)"
      ]
     },
     "execution_count": 14,
     "metadata": {},
     "output_type": "execute_result"
    }
   ],
   "source": [
    "res_challenge_2, answer_challenge_2 = solve_horn(vc_challenge_2)\n",
    "print (res_challenge_2)\n",
    "push_not(answer_challenge_2.eval(inv_challenge_2))"
   ]
  },
  {
   "attachments": {},
   "cell_type": "markdown",
   "metadata": {},
   "source": [
    "## unsafe\n"
   ]
  },
  {
   "cell_type": "code",
   "execution_count": 15,
   "metadata": {},
   "outputs": [
    {
     "data": {
      "text/html": [
       "Transition System: Ts0<br/>\tInit: x = 0 &and; y = 0<br/>\tBad: &not;(x = 2702470 &and; &not;(y = 1351235))<br/>\tTr: x &ge; 0 &and;<br/>y &ge; 0 &and;<br/>(x%2 = 0 &or; x = y + y) &and;<br/>(x%2 = 1 &or; x = 1 + y + y) &and;<br/>x' = x + 1 &and;<br/>y' = If(x%2 = 0, y + 1, y)"
      ],
      "text/plain": [
       "\"Transition System: Ts0<br/>\\tInit: x = 0 &and; y = 0<br/>\\tBad: &not;(x = 2702470 &and; &not;(y = 1351235))<br/>\\tTr: x &ge; 0 &and;<br/>y &ge; 0 &and;<br/>(x%2 = 0 &or; x = y + y) &and;<br/>(x%2 = 1 &or; x = 1 + y + y) &and;<br/>x' = x + 1 &and;<br/>y' = If(x%2 = 0, y + 1, y)\""
      ]
     },
     "execution_count": 15,
     "metadata": {},
     "output_type": "execute_result"
    }
   ],
   "source": [
    "ts_challenge_2_unsafe = mk_ts_challenge_2(safe=False)\n",
    "HtmlStr(ts_challenge_2_unsafe)"
   ]
  },
  {
   "cell_type": "code",
   "execution_count": 16,
   "metadata": {},
   "outputs": [
    {
     "name": "stdout",
     "output_type": "stream",
     "text": [
      "pres [x, y]\n",
      "post [x', y']\n",
      "inputs []\n"
     ]
    },
    {
     "data": {
      "text/html": [
       "<b>unsat</b>"
      ],
      "text/plain": [
       "'<b>unsat</b>'"
      ]
     },
     "execution_count": 16,
     "metadata": {},
     "output_type": "execute_result"
    }
   ],
   "source": [
    "vc, inv = vc_gen(ts_challenge_1_unsafe)\n",
    "res, answer = solve_horn(vc)\n",
    "HtmlStr(res)"
   ]
  },
  {
   "cell_type": "code",
   "execution_count": 17,
   "metadata": {},
   "outputs": [
    {
     "data": {
      "image/svg+xml": [
       "<?xml version=\"1.0\" encoding=\"UTF-8\" standalone=\"no\"?>\n",
       "<!DOCTYPE svg PUBLIC \"-//W3C//DTD SVG 1.1//EN\"\n",
       " \"http://www.w3.org/Graphics/SVG/1.1/DTD/svg11.dtd\">\n",
       "<!-- Generated by graphviz version 7.1.0 (20230121.1956)\n",
       " -->\n",
       "<!-- Pages: 1 -->\n",
       "<svg width=\"159pt\" height=\"116pt\"\n",
       " viewBox=\"0.00 0.00 158.79 116.00\" xmlns=\"http://www.w3.org/2000/svg\" xmlns:xlink=\"http://www.w3.org/1999/xlink\">\n",
       "<g id=\"graph0\" class=\"graph\" transform=\"scale(1 1) rotate(0) translate(4 112)\">\n",
       "<polygon fill=\"white\" stroke=\"none\" points=\"-4,4 -4,-112 154.79,-112 154.79,4 -4,4\"/>\n",
       "<!-- 367 -->\n",
       "<g id=\"node1\" class=\"node\">\n",
       "<title>367</title>\n",
       "<ellipse fill=\"none\" stroke=\"black\" cx=\"75.39\" cy=\"-18\" rx=\"75.29\" ry=\"18\"/>\n",
       "<text text-anchor=\"middle\" x=\"75.39\" y=\"-14.3\" font-family=\"Times,serif\" font-size=\"14.00\">query!32(0, 5000)</text>\n",
       "</g>\n",
       "<!-- 160 -->\n",
       "<g id=\"node2\" class=\"node\">\n",
       "<title>160</title>\n",
       "<ellipse fill=\"none\" stroke=\"black\" cx=\"75.39\" cy=\"-90\" rx=\"55.49\" ry=\"18\"/>\n",
       "<text text-anchor=\"middle\" x=\"75.39\" y=\"-86.3\" font-family=\"Times,serif\" font-size=\"14.00\">Inv(0, 5000)</text>\n",
       "</g>\n",
       "<!-- 160&#45;&gt;367 -->\n",
       "<g id=\"edge1\" class=\"edge\">\n",
       "<title>160&#45;&gt;367</title>\n",
       "<path fill=\"none\" stroke=\"black\" d=\"M75.39,-71.7C75.39,-64.41 75.39,-55.73 75.39,-47.54\"/>\n",
       "<polygon fill=\"black\" stroke=\"black\" points=\"78.89,-47.62 75.39,-37.62 71.89,-47.62 78.89,-47.62\"/>\n",
       "</g>\n",
       "</g>\n",
       "</svg>\n"
      ],
      "text/plain": [
       "<spacer_tutorial.proof.SpacerProof at 0x110142710>"
      ]
     },
     "execution_count": 17,
     "metadata": {},
     "output_type": "execute_result"
    }
   ],
   "source": [
    "sp = SpacerProof(answer)\n",
    "sp"
   ]
  }
 ],
 "metadata": {
  "kernelspec": {
   "display_name": "venv",
   "language": "python",
   "name": "python3"
  },
  "language_info": {
   "codemirror_mode": {
    "name": "ipython",
    "version": 3
   },
   "file_extension": ".py",
   "mimetype": "text/x-python",
   "name": "python",
   "nbconvert_exporter": "python",
   "pygments_lexer": "ipython3",
   "version": "3.10.9"
  },
  "orig_nbformat": 4
 },
 "nbformat": 4,
 "nbformat_minor": 2
}
