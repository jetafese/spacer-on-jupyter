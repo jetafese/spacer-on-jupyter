{
 "cells": [
  {
   "cell_type": "code",
   "execution_count": 1,
   "metadata": {},
   "outputs": [],
   "source": [
    "from z3 import *\n",
    "from spacer_tutorial import *"
   ]
  },
  {
   "cell_type": "code",
   "execution_count": 105,
   "metadata": {},
   "outputs": [],
   "source": [
    "T = Solver()\n",
    "x, x_out = Ints(\"x0 x1\")\n",
    "\n",
    "Init = x == 0\n",
    "Tr = Or(And(x < 5, x_out == x + 1), And(x >= 5, x_out == x))\n",
    "Bad = And(x >= 6)"
   ]
  },
  {
   "cell_type": "code",
   "execution_count": null,
   "metadata": {},
   "outputs": [],
   "source": [
    "T = Solver()\n",
    "F2 =[Not(And(x >= 6))]\n",
    "T.add(*F2)\n",
    "T.add(Bad)\n",
    "T.check()\n",
    "T.model()"
   ]
  },
  {
   "cell_type": "code",
   "execution_count": 108,
   "metadata": {},
   "outputs": [
    {
     "data": {
      "text/html": [
       "x0 &ge; 6"
      ],
      "text/plain": [
       "And(x0 >= 6)"
      ]
     },
     "execution_count": 108,
     "metadata": {},
     "output_type": "execute_result"
    }
   ],
   "source": [
    "#pob = x_out == T.model().eval(x)\n",
    "pob = Bad\n",
    "pob"
   ]
  },
  {
   "cell_type": "code",
   "execution_count": 112,
   "metadata": {},
   "outputs": [
    {
     "data": {
      "text/html": [
       "<b>unsat</b>"
      ],
      "text/plain": [
       "unsat"
      ]
     },
     "metadata": {},
     "output_type": "display_data"
    }
   ],
   "source": [
    "S = Solver()\n",
    "F1 = [Not(x >= 6)]\n",
    "S.add(*F1)\n",
    "S.add(Tr)\n",
    "S.add(pob)\n",
    "res = S.check()\n",
    "if res == sat:\n",
    "    display(S.model())\n",
    "else:\n",
    "    display(res)\n"
   ]
  },
  {
   "cell_type": "code",
   "execution_count": 110,
   "metadata": {},
   "outputs": [],
   "source": [
    "\n",
    "pob_1 = And(x_out >= 6)"
   ]
  },
  {
   "cell_type": "code",
   "execution_count": 111,
   "metadata": {},
   "outputs": [
    {
     "data": {
      "text/html": [
       "<b>unsat</b>"
      ],
      "text/plain": [
       "unsat"
      ]
     },
     "metadata": {},
     "output_type": "display_data"
    }
   ],
   "source": [
    "S1 = Solver()\n",
    "F0 = [Init]\n",
    "S1.add(*F0)\n",
    "S1.add(Tr)\n",
    "S1.add(pob_1)\n",
    "res = S1.check()\n",
    "if res == sat:\n",
    "    display(S.model())\n",
    "else:\n",
    "    display(res)"
   ]
  }
 ],
 "metadata": {
  "kernelspec": {
   "display_name": "venv",
   "language": "python",
   "name": "python3"
  },
  "language_info": {
   "codemirror_mode": {
    "name": "ipython",
    "version": 3
   },
   "file_extension": ".py",
   "mimetype": "text/x-python",
   "name": "python",
   "nbconvert_exporter": "python",
   "pygments_lexer": "ipython3",
   "version": "3.9.5"
  },
  "orig_nbformat": 4
 },
 "nbformat": 4,
 "nbformat_minor": 2
}
