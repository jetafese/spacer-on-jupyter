{
 "cells": [
  {
   "cell_type": "code",
   "execution_count": 37,
   "metadata": {},
   "outputs": [
    {
     "name": "stdout",
     "output_type": "stream",
     "text": [
      "Using local version of spacer_tutorial package\n"
     ]
    }
   ],
   "source": [
    "import sys\n",
    "import os.path\n",
    "import importlib.util\n",
    "\n",
    "# insert path to the local version of spacer_tutorial package into pythonpath\n",
    "if os.path.exists(\"src/spacer_tutorial/\"):\n",
    "    sys.path.append(os.path.abspath(\"src\"))\n",
    "    print(\"Using local version of spacer_tutorial package\")\n",
    "\n",
    "# install z3 if needed\n",
    "if importlib.util.find_spec('z3') is None:\n",
    "    !{sys.executable} -m pip install z3-solver\n",
    "# install spacer_tutorial if needed\n",
    "if importlib.util.find_spec('spacer_tutorial') is None:\n",
    "    !{sys.executable} -m pip install spacer-tutorial"
   ]
  },
  {
   "cell_type": "code",
   "execution_count": 6,
   "metadata": {},
   "outputs": [],
   "source": [
    "from z3 import *\n",
    "from spacer_tutorial import *\n",
    "\n",
    "# proof mode must be enabled before any expressions are created\n",
    "z3.set_param(proof=True)\n",
    "z3.set_param(model=True)\n",
    "# print expressions with HTML\n",
    "z3.set_html_mode(True)"
   ]
  },
  {
   "cell_type": "markdown",
   "metadata": {},
   "source": [
    "# Experiments with Scaling"
   ]
  },
  {
   "cell_type": "markdown",
   "metadata": {},
   "source": [
    "## Utilities"
   ]
  },
  {
   "cell_type": "code",
   "execution_count": 3,
   "metadata": {},
   "outputs": [],
   "source": [
    "# Binary Craig Interpolation by reduction to CHC\n",
    "def interpolate(A, B, verbosity=0):\n",
    "    '''Computes a Craig interpolant between A and B'''\n",
    "    As = free_arith_vars(A)\n",
    "    Bs = free_arith_vars(B)\n",
    "\n",
    "    shared = [s for s in As & Bs ]\n",
    "\n",
    "    Itp = z3.Function('Itp', [s.sort() for s in shared] + [z3.BoolSort()])\n",
    "    left = z3.ForAll([a for a in As], z3.Implies(A, Itp(shared)))\n",
    "    right = z3.ForAll([b for b in Bs], z3.Implies(Itp(shared), z3.Not(B)))\n",
    "\n",
    "    res, answer = solve_horn([left, right])\n",
    "\n",
    "    if res == z3.sat:\n",
    "        return answer.eval(Itp(shared))\n",
    "    return None "
   ]
  },
  {
   "cell_type": "code",
   "execution_count": 4,
   "metadata": {},
   "outputs": [],
   "source": [
    "def sub(formula, constants):\n",
    "    subed = formula\n",
    "    # print(z3.substitute(scaled,[(z3.IntVal(2), z3.Int('K_N'))]))\n",
    "    for c in constants:\n",
    "        k_c = f'K_{c}'\n",
    "        subed = z3.substitute(subed, (z3.IntVal(c), z3.Int(k_c)))\n",
    "    return subed"
   ]
  },
  {
   "cell_type": "code",
   "execution_count": 5,
   "metadata": {},
   "outputs": [],
   "source": [
    "def scale(formula, constants, K, k=0):\n",
    "    scaled = formula\n",
    "    for c in constants:\n",
    "        # k_s = 'K'\n",
    "        scaled = z3.substitute(scaled, (z3.IntVal(c), c*K))\n",
    "    # scaled = And(scaled, K > k)\n",
    "    return scaled"
   ]
  },
  {
   "cell_type": "markdown",
   "metadata": {},
   "source": [
    "## src"
   ]
  },
  {
   "cell_type": "code",
   "execution_count": 6,
   "metadata": {},
   "outputs": [
    {
     "data": {
      "text/html": [
       "[y0 &gt; 4, 3&middot;x0 + 3&middot;y0 + 4 &le; 0 &and; 3&middot;y0 + 2 &le; 0]"
      ],
      "text/plain": [
       "[y0 &gt; 4, 3&middot;x0 + 3&middot;y0 + 4 &le; 0 &and; 3&middot;y0 + 2 &le; 0]"
      ]
     },
     "execution_count": 6,
     "metadata": {},
     "output_type": "execute_result"
    }
   ],
   "source": [
    "# scale(2*x + 3*y + 4 <= 0 && 3*y + 2 <= 0, k) = 2*x + 3*y + 4k <= 0 && 3y + 2k <= 0\n",
    "T = Solver()\n",
    "x, x_out = Ints(\"x0 x1\")\n",
    "y, y_out = Ints(\"y0 y1\")\n",
    "K = Int('K')\n",
    "\n",
    "A = And(y > 4)\n",
    "B = And(3*x + 3*y + 4 <= 0, 3*y + 2 <= 0)\n",
    "# Init = x == 0\n",
    "# Tr = Or(And(x < 5, x_out == x + 1), And(x >= 453, x_out == x))\n",
    "# Bad = And(x >= 6)\n",
    "T.add(A)\n",
    "T.add(B)\n",
    "T"
   ]
  },
  {
   "cell_type": "code",
   "execution_count": 7,
   "metadata": {},
   "outputs": [
    {
     "data": {
      "text/html": [
       "<b>unsat</b>"
      ],
      "text/plain": [
       "<b>unsat</b>"
      ]
     },
     "metadata": {},
     "output_type": "display_data"
    },
    {
     "data": {
      "text/html": [
       "&not;(y0 &le; 4)"
      ],
      "text/plain": [
       "&not;(y0 &le; 4)"
      ]
     },
     "metadata": {},
     "output_type": "display_data"
    }
   ],
   "source": [
    "res = T.check()\n",
    "display(res)\n",
    "\n",
    "if res == sat:\n",
    "    display(T.model())\n",
    "else:\n",
    "    display(interpolate(A, B))"
   ]
  },
  {
   "cell_type": "markdown",
   "metadata": {},
   "source": [
    "## subed"
   ]
  },
  {
   "cell_type": "code",
   "execution_count": 8,
   "metadata": {},
   "outputs": [
    {
     "data": {
      "text/html": [
       "K_3&middot;x0 + K_3&middot;y0 + K_4 &le; 0 &and; K_3&middot;y0 + K_2 &le; 0"
      ],
      "text/plain": [
       "K_3&middot;x0 + K_3&middot;y0 + K_4 &le; 0 &and; K_3&middot;y0 + K_2 &le; 0"
      ]
     },
     "metadata": {},
     "output_type": "display_data"
    },
    {
     "data": {
      "text/html": [
       "<b>sat</b>"
      ],
      "text/plain": [
       "<b>sat</b>"
      ]
     },
     "metadata": {},
     "output_type": "display_data"
    },
    {
     "data": {
      "text/html": [
       "[K_4 = 0, K_2 = 0, y0 = 5, K_3 = 0, x0 = 0]"
      ],
      "text/plain": [
       "[K_4 = 0, K_2 = 0, y0 = 5, K_3 = 0, x0 = 0]"
      ]
     },
     "metadata": {},
     "output_type": "display_data"
    }
   ],
   "source": [
    "if res == unsat:\n",
    "    B2 = sub(B,[2, 3, 4])\n",
    "    display(B2)\n",
    "\n",
    "T2 = Solver()\n",
    "T2.add(A)\n",
    "T2.add(B2)\n",
    "resSubed = T2.check()\n",
    "display(resSubed)\n",
    "\n",
    "if resSubed == sat:\n",
    "    display(T2.model())\n",
    "else:\n",
    "    display(interpolate(A, B2))"
   ]
  },
  {
   "cell_type": "markdown",
   "metadata": {},
   "source": [
    "## scaled"
   ]
  },
  {
   "cell_type": "code",
   "execution_count": 9,
   "metadata": {},
   "outputs": [
    {
     "data": {
      "text/html": [
       "y0 &gt; 4&middot;K"
      ],
      "text/plain": [
       "y0 &gt; 4&middot;K"
      ]
     },
     "metadata": {},
     "output_type": "display_data"
    },
    {
     "data": {
      "text/html": [
       "3&middot;x0 + 3&middot;y0 + 4&middot;K &le; 0 &and; 3&middot;y0 + 2&middot;K &le; 0 &and; K &gt; 0"
      ],
      "text/plain": [
       "3&middot;x0 + 3&middot;y0 + 4&middot;K &le; 0 &and; 3&middot;y0 + 2&middot;K &le; 0 &and; K &gt; 0"
      ]
     },
     "metadata": {},
     "output_type": "display_data"
    },
    {
     "data": {
      "text/html": [
       "[y0 &gt; 4&middot;K, 3&middot;x0 + 3&middot;y0 + 4&middot;K &le; 0 &and; 3&middot;y0 + 2&middot;K &le; 0 &and; K &gt; 0]"
      ],
      "text/plain": [
       "[y0 &gt; 4&middot;K, 3&middot;x0 + 3&middot;y0 + 4&middot;K &le; 0 &and; 3&middot;y0 + 2&middot;K &le; 0 &and; K &gt; 0]"
      ]
     },
     "metadata": {},
     "output_type": "display_data"
    },
    {
     "data": {
      "text/html": [
       "<b>unsat</b>"
      ],
      "text/plain": [
       "<b>unsat</b>"
      ]
     },
     "metadata": {},
     "output_type": "display_data"
    },
    {
     "data": {
      "text/html": [
       "&not;(4&middot;K + -1&middot;y0 &ge; 0)"
      ],
      "text/plain": [
       "&not;(4&middot;K + -1&middot;y0 &ge; 0)"
      ]
     },
     "metadata": {},
     "output_type": "display_data"
    }
   ],
   "source": [
    "B3 = B\n",
    "# Var = z3.Int('K')\n",
    "if res == unsat:\n",
    "    A3 = And(scale(A,list([2, 4]), K))\n",
    "    B3 = And(scale(B,list([2, 4]), K), K > 0)\n",
    "    display(A3)\n",
    "    display(B3)\n",
    "assert(not B3.__str__().__eq__(B.__str__()))\n",
    "\n",
    "# T3 = Optimize()\n",
    "T3 = Solver()\n",
    "T3.add(A3)\n",
    "T3.add(B3)\n",
    "# T3.add_soft(z3.Int('K') >= 1)\n",
    "display(T3)\n",
    "\n",
    "resScaled = T3.check()\n",
    "# resScaled = T3.check(z3.Int('K') >= 1)\n",
    "display(resScaled)\n",
    "\n",
    "if resScaled == sat:\n",
    "    display(T3.model())\n",
    "else:\n",
    "    display(interpolate(A3, B3))"
   ]
  },
  {
   "cell_type": "markdown",
   "metadata": {},
   "source": [
    "# Experiments with IC3"
   ]
  },
  {
   "cell_type": "code",
   "execution_count": 10,
   "metadata": {},
   "outputs": [],
   "source": [
    "T = Solver()\n",
    "x, x_out = Ints(\"x0 x1\")\n",
    "\n",
    "Init = x == 0\n",
    "Tr = Or(And(x < 5, x_out == x + 1), And(x >= 453, x_out == x))\n",
    "Bad = And(x >= 6)"
   ]
  },
  {
   "cell_type": "code",
   "execution_count": 11,
   "metadata": {},
   "outputs": [
    {
     "data": {
      "text/html": [
       "[x0 = 6]"
      ],
      "text/plain": [
       "[x0 = 6]"
      ]
     },
     "execution_count": 11,
     "metadata": {},
     "output_type": "execute_result"
    }
   ],
   "source": [
    "T = Solver()\n",
    "F2 =[]\n",
    "T.add(*F2)\n",
    "T.add(Bad)\n",
    "T.check()\n",
    "T.model()"
   ]
  },
  {
   "cell_type": "code",
   "execution_count": 12,
   "metadata": {},
   "outputs": [
    {
     "data": {
      "text/html": [
       "x1 &ge; 6"
      ],
      "text/plain": [
       "x1 &ge; 6"
      ]
     },
     "execution_count": 12,
     "metadata": {},
     "output_type": "execute_result"
    }
   ],
   "source": [
    "# pob = x_out == T.model().eval(x)\n",
    "pob = z3.substitute(Bad, (x, x_out))\n",
    "\n",
    "# pob = [x >= 5, x >= 6]\n",
    "pob"
   ]
  },
  {
   "cell_type": "code",
   "execution_count": 13,
   "metadata": {},
   "outputs": [
    {
     "data": {
      "text/html": [
       "<b>unsat</b>"
      ],
      "text/plain": [
       "<b>unsat</b>"
      ]
     },
     "metadata": {},
     "output_type": "display_data"
    }
   ],
   "source": [
    "S = Solver()\n",
    "F1 = [Not(And(x >= 6))]\n",
    "S.add(*F1)\n",
    "S.add(Tr)\n",
    "S.add(pob)\n",
    "res = S.check()\n",
    "if res == sat:\n",
    "    display(S.model())\n",
    "else:\n",
    "    display(res)\n"
   ]
  },
  {
   "cell_type": "code",
   "execution_count": 14,
   "metadata": {},
   "outputs": [
    {
     "data": {
      "text/html": [
       "x1 &ge; 6"
      ],
      "text/plain": [
       "x1 &ge; 6"
      ]
     },
     "execution_count": 14,
     "metadata": {},
     "output_type": "execute_result"
    }
   ],
   "source": [
    "\n",
    "pob_1 = z3.substitute(z3.And(x >= 6), (x, x_out))\n",
    "pob_1"
   ]
  },
  {
   "cell_type": "code",
   "execution_count": 15,
   "metadata": {},
   "outputs": [
    {
     "data": {
      "text/html": [
       "<b>unsat</b>"
      ],
      "text/plain": [
       "<b>unsat</b>"
      ]
     },
     "metadata": {},
     "output_type": "display_data"
    }
   ],
   "source": [
    "S1 = Solver()\n",
    "F0 = [Init]\n",
    "S1.add(*F0)\n",
    "S1.add(Tr)\n",
    "S1.add(pob_1)\n",
    "res = S1.check()\n",
    "if res == sat:\n",
    "    display(S.model())\n",
    "else:\n",
    "    display(res)"
   ]
  },
  {
   "cell_type": "code",
   "execution_count": 16,
   "metadata": {},
   "outputs": [],
   "source": [
    "\n",
    "proxy, proxy2 = z3.Bools('proxy proxy2')"
   ]
  },
  {
   "cell_type": "code",
   "execution_count": 17,
   "metadata": {},
   "outputs": [
    {
     "data": {
      "text/html": [
       "[proxy &rArr; x0 &gt; 0 &and; x0 &lt; 2,\n",
       " proxy2 &rArr; x1 &gt; 0 &and; x1 &lt; 2,\n",
       " a &rArr; x0 &gt; 1]"
      ],
      "text/plain": [
       "[proxy &rArr; x0 &gt; 0 &and; x0 &lt; 2,\n",
       " proxy2 &rArr; x1 &gt; 0 &and; x1 &lt; 2,\n",
       " a &rArr; x0 &gt; 1]"
      ]
     },
     "execution_count": 17,
     "metadata": {},
     "output_type": "execute_result"
    }
   ],
   "source": [
    "s = z3.Solver()\n",
    "s.add(z3.Implies(proxy, z3.And(x > 0, x < 2)))\n",
    "s.add(z3.Implies(proxy2, z3.And(x_out > 0, x_out < 2)))\n",
    "a = z3.Bool('a')\n",
    "s.add(z3.Implies(a, x > 1))\n",
    "s"
   ]
  },
  {
   "cell_type": "code",
   "execution_count": 18,
   "metadata": {},
   "outputs": [
    {
     "data": {
      "text/html": [
       "<b>unsat</b>"
      ],
      "text/plain": [
       "<b>unsat</b>"
      ]
     },
     "execution_count": 18,
     "metadata": {},
     "output_type": "execute_result"
    }
   ],
   "source": [
    "s.check(proxy, z3.Not(proxy2), a)"
   ]
  },
  {
   "cell_type": "code",
   "execution_count": 19,
   "metadata": {},
   "outputs": [
    {
     "data": {
      "text/html": [
       "<b>sat</b>"
      ],
      "text/plain": [
       "<b>sat</b>"
      ]
     },
     "execution_count": 19,
     "metadata": {},
     "output_type": "execute_result"
    }
   ],
   "source": [
    "s.check(proxy2, a)"
   ]
  },
  {
   "cell_type": "markdown",
   "metadata": {},
   "source": [
    "# Experiments with New SMT Solver"
   ]
  },
  {
   "cell_type": "markdown",
   "metadata": {},
   "source": [
    "## Setup"
   ]
  },
  {
   "cell_type": "code",
   "execution_count": 1,
   "metadata": {},
   "outputs": [],
   "source": [
    "def vc_gen(T):\n",
    "    '''Verification Condition (VC) for an Inductive Invariant'''\n",
    "    Inv = z3.Function('Inv', *(T.sig() + [z3.BoolSort()]))\n",
    "\n",
    "    InvPre = Inv(*T.pre_vars())\n",
    "    InvPost = Inv(*T.post_vars())\n",
    "    print ('pres', T.pre_vars())\n",
    "    print ('post', T.post_vars())\n",
    "    print ('inputs', T.inputs())\n",
    "\n",
    "    all_vars = T.all()\n",
    "    vc_init = z3.ForAll(all_vars, z3.Implies(T.Init, InvPre))\n",
    "    vc_ind = z3.ForAll(all_vars, z3.Implies(z3.And(InvPre, T.Tr), InvPost))\n",
    "    vc_bad = z3.ForAll(all_vars, z3.Implies(z3.And(InvPre, T.Bad), z3.BoolVal(False)))\n",
    "    return [vc_init, vc_ind, vc_bad], InvPre\n",
    "\n",
    "challenge1 = False\n",
    "\n",
    "def mk_ts_challenge(safe=True):\n",
    "    T = Ts('Ts0')\n",
    "    constants = list()\n",
    "    x, x_out = T.add_var(z3.IntSort(), name='x')\n",
    "    y, y_out = T.add_var(z3.IntSort(), name='y')\n",
    "    if challenge1:\n",
    "        # Challenge 1\n",
    "        constants = list([5000, 10000])\n",
    "        T.Init = z3.And(x == 0, y == 5000)\n",
    "        T.Tr = z3.And(x_out == x + 1, y_out == z3.If(x >= 5000, y + 1, y))\n",
    "        if safe:\n",
    "            T.Bad = z3.And(x == 10000, z3.Not(y == x))\n",
    "        else:\n",
    "            T.Bad = z3.Not(z3.And(x == 1000, z3.Not(y == x)))\n",
    "    else:\n",
    "        # Challenge 2\n",
    "        constants = list([1351235, 2702470])\n",
    "        T.Init = z3.And(x == 0, y == 0)\n",
    "        T.Tr = z3.And(x_out == x + 1, y_out == z3.If(x % 2 == 0, y + 1, y))\n",
    "        if safe:\n",
    "            T.Bad = z3.And(x % 2 == 0, z3.Not(2*y == x))\n",
    "            # T.Bad = z3.And(x == z3.Product(2, z3.IntVal(1351235)), z3.Not(y == 1351235))\n",
    "        else:\n",
    "            T.Bad = z3.Not(z3.And(x == z3.Product(2, 1351235), z3.Not(y == 1351235)))\n",
    "    return T, constants"
   ]
  },
  {
   "cell_type": "markdown",
   "metadata": {},
   "source": [
    "## Normal"
   ]
  },
  {
   "cell_type": "code",
   "execution_count": 26,
   "metadata": {},
   "outputs": [
    {
     "name": "stdout",
     "output_type": "stream",
     "text": [
      "pres [x, y]\n",
      "post [x', y']\n",
      "inputs []\n"
     ]
    },
    {
     "data": {
      "text/html": [
       "&forall;x, y, x', y' : x = 0 &and; y = 0 &rArr; Inv(x, y) <br/><br/>&forall;x, y, x', y' :<br/> Inv(x, y) &and; x' = x + 1 &and; y' = If(x%2 = 0, y + 1, y) &rArr;<br/> Inv(x', y') <br/><br/>&forall;x, y, x', y' :<br/> Inv(x, y) &and; x = 2&middot;1351235 &and; &not;(y = 1351235) &rArr; False <br/><br/>"
      ],
      "text/plain": [
       "\"&forall;x, y, x', y' : x = 0 &and; y = 0 &rArr; Inv(x, y) <br/><br/>&forall;x, y, x', y' :<br/> Inv(x, y) &and; x' = x + 1 &and; y' = If(x%2 = 0, y + 1, y) &rArr;<br/> Inv(x', y') <br/><br/>&forall;x, y, x', y' :<br/> Inv(x, y) &and; x = 2&middot;1351235 &and; &not;(y = 1351235) &rArr; False <br/><br/>\""
      ]
     },
     "metadata": {},
     "output_type": "display_data"
    },
    {
     "data": {
      "text/html": [
       "<b>unknown</b>"
      ],
      "text/plain": [
       "<b>unknown</b>"
      ]
     },
     "metadata": {},
     "output_type": "display_data"
    }
   ],
   "source": [
    "ts_challenge, constants = mk_ts_challenge(safe=True)\n",
    "HtmlStr(ts_challenge)\n",
    "vc_challenge, inv_challenge = vc_gen(ts_challenge)\n",
    "chc_to_str(vc_challenge)\n",
    "display(chc_to_str(vc_challenge))\n",
    "res_challenge, answer_challenge = solve_horn(vc_challenge, max_unfold=40)\n",
    "display (res_challenge)\n",
    "if res_challenge == sat:\n",
    "    push_not(answer_challenge.eval(inv_challenge))"
   ]
  },
  {
   "cell_type": "code",
   "execution_count": 71,
   "metadata": {},
   "outputs": [],
   "source": [
    "def isBlocked(frames, bound, pob, solver):\n",
    "    assert(bound >= 0)\n",
    "    solver.push()\n",
    "    solver.add(pob)\n",
    "    solver.add(frames[bound])\n",
    "    display(f'solver w/ POB and F[{bound}]', solver)\n",
    "    check = solver.check()\n",
    "    display(check)\n",
    "    solver.pop()\n",
    "    return check == unsat"
   ]
  },
  {
   "cell_type": "code",
   "execution_count": 84,
   "metadata": {},
   "outputs": [],
   "source": [
    "def ic3_block(frames, ts, bound, pob, solver):\n",
    "    assert(bound >= 0)\n",
    "    solver.push()\n",
    "    solver.add(frames[bound-1])\n",
    "    solver.add(ts)\n",
    "    solver.add(pob)\n",
    "    display(f'solver w/ F[{bound-1}] and TR and POB', solver)\n",
    "    check = solver.check()\n",
    "    if check == unsat:\n",
    "        frames[bound] = z3.Not(pob)\n",
    "        display(frames)\n",
    "    solver.pop()\n",
    "    return check == unsat, frames"
   ]
  },
  {
   "cell_type": "markdown",
   "metadata": {},
   "source": [
    "## Level 0: Substitute with Symbolic Value"
   ]
  },
  {
   "cell_type": "code",
   "execution_count": 87,
   "metadata": {},
   "outputs": [
    {
     "name": "stdout",
     "output_type": "stream",
     "text": [
      "entering level 0\n"
     ]
    },
    {
     "data": {
      "text/plain": [
       "'solver w/ POB and F[1]'"
      ]
     },
     "metadata": {},
     "output_type": "display_data"
    },
    {
     "data": {
      "text/html": [
       "[x = 2&middot;K_1351235 &and; &not;(y = K_1351235), True]"
      ],
      "text/plain": [
       "[x = 2&middot;K_1351235 &and; &not;(y = K_1351235), True]"
      ]
     },
     "metadata": {},
     "output_type": "display_data"
    },
    {
     "data": {
      "text/html": [
       "<b>sat</b>"
      ],
      "text/plain": [
       "<b>sat</b>"
      ]
     },
     "metadata": {},
     "output_type": "display_data"
    },
    {
     "data": {
      "text/plain": [
       "'solver w/ F[0] and TR and POB'"
      ]
     },
     "metadata": {},
     "output_type": "display_data"
    },
    {
     "data": {
      "text/html": [
       "[x = 0 &and; y = 0,\n",
       " x' = x + 1 &and; y' = If(x%2 = 0, y + 1, y),\n",
       " x = 2&middot;K_1351235 &and; &not;(y = K_1351235)]"
      ],
      "text/plain": [
       "[x = 0 &and; y = 0,\n",
       " x' = x + 1 &and; y' = If(x%2 = 0, y + 1, y),\n",
       " x = 2&middot;K_1351235 &and; &not;(y = K_1351235)]"
      ]
     },
     "metadata": {},
     "output_type": "display_data"
    },
    {
     "data": {
      "text/plain": [
       "[x = 0 &and; y = 0, &not;(x = 2&middot;K_1351235 &and; &not;(y = K_1351235))]"
      ]
     },
     "metadata": {},
     "output_type": "display_data"
    },
    {
     "name": "stdout",
     "output_type": "stream",
     "text": [
      "True\n"
     ]
    },
    {
     "data": {
      "text/html": [
       "&not;(x = 2&middot;K_1351235 &and; &not;(y = K_1351235))"
      ],
      "text/plain": [
       "&not;(x = 2&middot;K_1351235 &and; &not;(y = K_1351235))"
      ]
     },
     "metadata": {},
     "output_type": "display_data"
    },
    {
     "data": {
      "text/plain": [
       "'IC3: '"
      ]
     },
     "metadata": {},
     "output_type": "display_data"
    },
    {
     "data": {
      "text/html": [
       "[]"
      ],
      "text/plain": [
       "[]"
      ]
     },
     "metadata": {},
     "output_type": "display_data"
    }
   ],
   "source": [
    "print('entering level 0')\n",
    "Tsub, constants_sub =  mk_ts_challenge(safe=True)\n",
    "\n",
    "F = list([z3.And(Tsub.Init), z3.And(True)])\n",
    "N = 1\n",
    "\n",
    "BAD_sub = sub(Tsub.Bad, constants_sub)\n",
    "\n",
    "IC3 = Solver()\n",
    "# block_bad = ic3_block(frames=F, ts=Tsub.Tr, bound=N, pob=Tsub.Bad, solver=IC3)\n",
    "# if (block_bad == unsat):\n",
    "#     print(F)\n",
    "if (isBlocked(frames=F, bound=N, pob=BAD_sub, solver=IC3)):\n",
    "# if (isBlocked(frames=F, bound=N, pob=Tsub.Bad, solver=IC3)):\n",
    "    print('Gucci')\n",
    "else:\n",
    "    blocked, fPrime = ic3_block(frames=F, ts=Tsub.Tr, bound=N, pob=BAD_sub, solver=IC3)\n",
    "    # blocked, fPrime = ic3_block(frames=F, ts=Tsub.Tr, bound=N, pob=Tsub.Bad, solver=IC3)\n",
    "    print(blocked)\n",
    "    display(fPrime[N])\n",
    "display('IC3: ',IC3)\n",
    "\n",
    "# IC3.add(Tsub.Init)\n",
    "\n",
    "# Tsub.Init = sub(Tsub.Init, constants_sub)\n",
    "# Tsub.Tr = sub(Tsub.Tr, constants_sub)\n",
    "# Tsub.Bad = sub(Tsub.Bad, constants_sub)\n",
    "# vc_challenge_subed, inv_challenge_subed = vc_gen(Tsub)\n",
    "# display(chc_to_str(vc_challenge_subed))\n",
    "# res_challenge_subed, answer_challenge_subed = solve_horn(vc_challenge_subed, max_unfold=4)\n",
    "# display(res_challenge_subed)\n",
    "# if res_challenge_subed == sat:\n",
    "#     push_not(answer_challenge_subed.eval(inv_challenge_subed))\n",
    "\n",
    "# Exists n: x = 2n && !(y = n)\n",
    "# Exists n: n = x/2 && !(y = x/2)\n",
    "# x%2 = 0 && !(2*y = x)"
   ]
  },
  {
   "cell_type": "markdown",
   "metadata": {},
   "source": [
    "## Level 1: Scale with k > 0"
   ]
  },
  {
   "cell_type": "code",
   "execution_count": 24,
   "metadata": {},
   "outputs": [
    {
     "name": "stdout",
     "output_type": "stream",
     "text": [
      "entering level 1\n",
      "pres [x, y]\n",
      "post [x', y']\n",
      "inputs []\n"
     ]
    },
    {
     "data": {
      "text/html": [
       "&forall;x, y, x', y' : x = 0 &and; y = 0 &rArr; Inv(x, y) <br/><br/>&forall;x, y, x', y' :<br/> Inv(x, y) &and; x' = x + 1 &and; y' = If(x%2 = 0, y + 1, y) &rArr;<br/> Inv(x', y') <br/><br/>&forall;x, y, x', y' :<br/> Inv(x, y) &and; x = 2&middot;1351235&middot;K &and; &not;(y = 1351235&middot;K) &rArr; False <br/><br/>"
      ],
      "text/plain": [
       "\"&forall;x, y, x', y' : x = 0 &and; y = 0 &rArr; Inv(x, y) <br/><br/>&forall;x, y, x', y' :<br/> Inv(x, y) &and; x' = x + 1 &and; y' = If(x%2 = 0, y + 1, y) &rArr;<br/> Inv(x', y') <br/><br/>&forall;x, y, x', y' :<br/> Inv(x, y) &and; x = 2&middot;1351235&middot;K &and; &not;(y = 1351235&middot;K) &rArr; False <br/><br/>\""
      ]
     },
     "metadata": {},
     "output_type": "display_data"
    },
    {
     "data": {
      "text/html": [
       "<b>unknown</b>"
      ],
      "text/plain": [
       "<b>unknown</b>"
      ]
     },
     "metadata": {},
     "output_type": "display_data"
    }
   ],
   "source": [
    "print('entering level 1')\n",
    "Tscaled, constants_scaled = mk_ts_challenge(safe=True)\n",
    "Tscaled.Init = scale(Tscaled.Init, constants_scaled, K)\n",
    "Tscaled.Tr = scale(Tscaled.Tr,constants_scaled, K)\n",
    "Tscaled.Bad = scale(Tscaled.Bad, constants_scaled, K)\n",
    "vc_challenge_scaled, inv_challenge_scaled = vc_gen(Tscaled)\n",
    "display(chc_to_str(vc_challenge_scaled))\n",
    "res_challenge_scaled, answer_challenge_scaled = solve_horn(vc_challenge_scaled, max_unfold=40)\n",
    "display(res_challenge_scaled)\n",
    "if res_challenge_scaled == sat:\n",
    "    push_not(answer_challenge_scaled.eval(inv_challenge_scaled))"
   ]
  },
  {
   "cell_type": "markdown",
   "metadata": {},
   "source": [
    "# Equality Constraints Paper"
   ]
  },
  {
   "cell_type": "code",
   "execution_count": 38,
   "metadata": {},
   "outputs": [],
   "source": [
    "def vc_gen(T):\n",
    "    '''Verification Condition (VC) for an Inductive Invariant'''\n",
    "    Inv = z3.Function('Inv', *(T.sig() + [z3.BoolSort()]))\n",
    "\n",
    "    InvPre = Inv(*T.pre_vars())\n",
    "    InvPost = Inv(*T.post_vars())\n",
    "    print ('pres', T.pre_vars())\n",
    "    print ('post', T.post_vars())\n",
    "    print ('inputs', T.inputs())\n",
    "\n",
    "    all_vars = T.all()\n",
    "    vc_init = z3.ForAll(all_vars, z3.Implies(T.Init, InvPre))\n",
    "    vc_ind = z3.ForAll(all_vars, z3.Implies(z3.And(InvPre, T.Tr), InvPost))\n",
    "    vc_bad = z3.ForAll(all_vars, z3.Implies(z3.And(InvPre, T.Bad), z3.BoolVal(False)))\n",
    "    return [vc_init, vc_ind, vc_bad], InvPre\n",
    "\n",
    "challenge = 3\n",
    "\n",
    "def mk_ts_challenge(safe=True):\n",
    "    T = Ts('Ts0')\n",
    "    constants = list()\n",
    "    x, x_out = T.add_var(z3.IntSort(), name='x')\n",
    "    y, y_out = T.add_var(z3.IntSort(), name='y')\n",
    "    z, z_out = T.add_var(z3.IntSort(), name='z')\n",
    "    if challenge == 1:\n",
    "        # Challenge 1\n",
    "        constants = list([5000, 10000])\n",
    "        T.Init = z3.And(x == 0, y == 5000)\n",
    "        T.Tr = z3.And(x_out == x + 1, y_out == z3.If(x >= 5000, y + 1, y))\n",
    "        if safe:\n",
    "            T.Bad = z3.And(x == 10000, z3.Not(y == x))\n",
    "        else:\n",
    "            T.Bad = z3.Not(z3.And(x == 1000, z3.Not(y == x)))\n",
    "    elif challenge == 2:\n",
    "        # Challenge 2\n",
    "        constants = list([1351235, 2702470])\n",
    "        T.Init = z3.And(x == 0, y == 0)\n",
    "        T.Tr = z3.And(x_out == x + 1, y_out == z3.If(x % 2 == 0, y + 1, y))\n",
    "        if safe:\n",
    "            T.Bad = z3.And(x % 2 == 0, z3.Not(2*y == x))\n",
    "            # T.Bad = z3.And(x == z3.Product(2, z3.IntVal(1351235)), z3.Not(y == 1351235))\n",
    "        else:\n",
    "            T.Bad = z3.Not(z3.And(x == z3.Product(2, 1351235), z3.Not(y == 1351235)))\n",
    "    else:\n",
    "        # Paper Challenge\n",
    "        constants = list([500, 1000])\n",
    "        T.Init = z3.And(x == 0, y == 0, z == 0)\n",
    "        T.Tr = z3.And(x < 500, x_out == x + 1, y_out == y + x, z_out == z + x + 2)\n",
    "        if safe:\n",
    "            T.Bad = z3.And(x >= 500, z3.Not(z + x >= y + 1000))\n",
    "        else:\n",
    "            T.Bad = z3.And(x >= 500, z >= y + 1000)\n",
    "    return T, constants"
   ]
  },
  {
   "cell_type": "code",
   "execution_count": 39,
   "metadata": {},
   "outputs": [
    {
     "name": "stdout",
     "output_type": "stream",
     "text": [
      "pres [x, y, z]\n",
      "post [x', y', z']\n",
      "inputs []\n"
     ]
    },
    {
     "data": {
      "text/html": [
       "&forall;x, y, z, x', y', z' : x = 0 &and; y = 0 &and; z = 0 &rArr; Inv(x, y, z) <br/><br/>&forall;x, y, z, x', y', z' :<br/> Inv(x, y, z) &and;<br/> x &lt; 500 &and;<br/> x' = x + 1 &and;<br/> y' = y + x &and;<br/> z' = z + x + 2 &rArr;<br/> Inv(x', y', z') <br/><br/>&forall;x, y, z, x', y', z' :<br/> Inv(x, y, z) &and; x &ge; 500 &and; &not;(z + x &ge; y + 1000) &rArr; False <br/><br/>"
      ],
      "text/plain": [
       "\"&forall;x, y, z, x', y', z' : x = 0 &and; y = 0 &and; z = 0 &rArr; Inv(x, y, z) <br/><br/>&forall;x, y, z, x', y', z' :<br/> Inv(x, y, z) &and;<br/> x &lt; 500 &and;<br/> x' = x + 1 &and;<br/> y' = y + x &and;<br/> z' = z + x + 2 &rArr;<br/> Inv(x', y', z') <br/><br/>&forall;x, y, z, x', y', z' :<br/> Inv(x, y, z) &and; x &ge; 500 &and; &not;(z + x &ge; y + 1000) &rArr; False <br/><br/>\""
      ]
     },
     "metadata": {},
     "output_type": "display_data"
    },
    {
     "data": {
      "text/html": [
       "<b>sat</b>"
      ],
      "text/plain": [
       "<b>sat</b>"
      ]
     },
     "metadata": {},
     "output_type": "display_data"
    },
    {
     "data": {
      "text/html": [
       "10 &ge; 2&middot;x + -1&middot;z + y"
      ],
      "text/plain": [
       "10 &ge; 2&middot;x + -1&middot;z + y"
      ]
     },
     "metadata": {},
     "output_type": "display_data"
    }
   ],
   "source": [
    "ts_challenge, constants = mk_ts_challenge(safe=True)\n",
    "HtmlStr(ts_challenge)\n",
    "vc_challenge, inv_challenge = vc_gen(ts_challenge)\n",
    "chc_to_str(vc_challenge)\n",
    "display(chc_to_str(vc_challenge))\n",
    "res_challenge, answer_challenge = solve_horn(vc_challenge, max_unfold=10)\n",
    "display (res_challenge)\n",
    "if res_challenge == sat:\n",
    "    display(push_not(answer_challenge.eval(inv_challenge)))"
   ]
  },
  {
   "cell_type": "code",
   "execution_count": 40,
   "metadata": {},
   "outputs": [
    {
     "data": {
      "text/html": [
       "2&middot;x - z + y &le; 10"
      ],
      "text/plain": [
       "2&middot;x - z + y &le; 10"
      ]
     },
     "metadata": {},
     "output_type": "display_data"
    },
    {
     "data": {
      "text/html": [
       "2&middot;x_out - z_out + y_out &le; 10"
      ],
      "text/plain": [
       "2&middot;x_out - z_out + y_out &le; 10"
      ]
     },
     "metadata": {},
     "output_type": "display_data"
    },
    {
     "data": {
      "text/plain": [
       "'check first: '"
      ]
     },
     "metadata": {},
     "output_type": "display_data"
    },
    {
     "data": {
      "text/html": [
       "[x = 0 &and; y = 0 &and; z = 0 &and; &not;(2&middot;x - z + y &le; 10)]"
      ],
      "text/plain": [
       "[x = 0 &and; y = 0 &and; z = 0 &and; &not;(2&middot;x - z + y &le; 10)]"
      ]
     },
     "metadata": {},
     "output_type": "display_data"
    },
    {
     "data": {
      "text/plain": [
       "'check sec: '"
      ]
     },
     "metadata": {},
     "output_type": "display_data"
    },
    {
     "data": {
      "text/html": [
       "[2&middot;x - z + y &le; 10 &and;\n",
       " x &lt; 500 &and;\n",
       " x_out = x + 1 &and;\n",
       " y_out = y + x &and;\n",
       " z_out = z + x + 2 &and;\n",
       " &not;(2&middot;x_out - z_out + y_out &le; 10)]"
      ],
      "text/plain": [
       "[2&middot;x - z + y &le; 10 &and;\n",
       " x &lt; 500 &and;\n",
       " x_out = x + 1 &and;\n",
       " y_out = y + x &and;\n",
       " z_out = z + x + 2 &and;\n",
       " &not;(2&middot;x_out - z_out + y_out &le; 10)]"
      ]
     },
     "metadata": {},
     "output_type": "display_data"
    },
    {
     "data": {
      "text/plain": [
       "'check third: '"
      ]
     },
     "metadata": {},
     "output_type": "display_data"
    },
    {
     "data": {
      "text/html": [
       "[2&middot;x - z + y &le; 10 &and; x &ge; 500 &and; &not;(z + x &ge; y + 1000)]"
      ],
      "text/plain": [
       "[2&middot;x - z + y &le; 10 &and; x &ge; 500 &and; &not;(z + x &ge; y + 1000)]"
      ]
     },
     "metadata": {},
     "output_type": "display_data"
    }
   ],
   "source": [
    "x, x_out = z3.Ints('x x_out')\n",
    "y, y_out = z3.Ints('y y_out')\n",
    "z, z_out = z3.Ints('z z_out')\n",
    "\n",
    "# INV\n",
    "inv1 = z3.And(10 >= 2*x - z + y)\n",
    "display(inv1)\n",
    "\n",
    "Init = z3.And(x == 0, y == 0, z == 0)\n",
    "Transition = z3.And(x < 500, x_out == x + 1, y_out == y + x, z_out == z + x + 2)\n",
    "Bad = z3.And(x >= 500, z3.Not(z + x >= y + 1000))\n",
    "InvariantPost = z3.substitute(inv1, [(x, x_out), (y, y_out), (z, z_out)])\n",
    "\n",
    "display(InvariantPost)\n",
    "\n",
    "sFirst = z3.Solver()\n",
    "sFirst.add(z3.And(Init, z3.Not(inv1)))\n",
    "display('check first: ', sFirst)\n",
    "assert sFirst.check() == z3.unsat\n",
    "\n",
    "sSecond = z3.Solver()\n",
    "sSecond.add(z3.And(inv1, Transition, z3.Not(InvariantPost)))\n",
    "display('check sec: ', sSecond)\n",
    "assert sSecond.check() == z3.unsat\n",
    "\n",
    "sThird= z3.Solver()\n",
    "sThird.add(z3.And(inv1, Bad))\n",
    "display('check third: ', sThird)\n",
    "assert sThird.check() == z3.unsat"
   ]
  }
 ],
 "metadata": {
  "kernelspec": {
   "display_name": "venv",
   "language": "python",
   "name": "python3"
  },
  "language_info": {
   "codemirror_mode": {
    "name": "ipython",
    "version": 3
   },
   "file_extension": ".py",
   "mimetype": "text/x-python",
   "name": "python",
   "nbconvert_exporter": "python",
   "pygments_lexer": "ipython3",
   "version": "3.10.13"
  },
  "orig_nbformat": 4
 },
 "nbformat": 4,
 "nbformat_minor": 2
}
