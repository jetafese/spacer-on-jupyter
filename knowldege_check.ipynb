{
 "cells": [
  {
   "cell_type": "code",
   "execution_count": 4,
   "metadata": {},
   "outputs": [],
   "source": [
    "from z3 import *\n",
    "from spacer_tutorial import *"
   ]
  },
  {
   "cell_type": "markdown",
   "metadata": {},
   "source": [
    "# Experiments with Scaling"
   ]
  },
  {
   "cell_type": "markdown",
   "metadata": {},
   "source": [
    "## Utilities"
   ]
  },
  {
   "cell_type": "code",
   "execution_count": 17,
   "metadata": {},
   "outputs": [],
   "source": [
    "# Binary Craig Interpolation by reduction to CHC\n",
    "def interpolate(A, B, verbosity=0):\n",
    "    '''Computes a Craig interpolant between A and B'''\n",
    "    As = free_arith_vars(A)\n",
    "    Bs = free_arith_vars(B)\n",
    "\n",
    "    shared = [s for s in As & Bs ]\n",
    "\n",
    "    Itp = z3.Function('Itp', [s.sort() for s in shared] + [z3.BoolSort()])\n",
    "    left = z3.ForAll([a for a in As], z3.Implies(A, Itp(shared)))\n",
    "    right = z3.ForAll([b for b in Bs], z3.Implies(Itp(shared), z3.Not(B)))\n",
    "\n",
    "    res, answer = solve_horn([left, right])\n",
    "\n",
    "    if res == z3.sat:\n",
    "        return answer.eval(Itp(shared))\n",
    "    return None "
   ]
  },
  {
   "cell_type": "code",
   "execution_count": 39,
   "metadata": {},
   "outputs": [],
   "source": [
    "def scale(formula, k):\n",
    "    print(formula.len())\n",
    "    print(formula)\n",
    "    return formula"
   ]
  },
  {
   "cell_type": "code",
   "execution_count": 41,
   "metadata": {},
   "outputs": [
    {
     "ename": "AttributeError",
     "evalue": "'BoolRef' object has no attribute 'numArgs'",
     "output_type": "error",
     "traceback": [
      "\u001b[0;31m---------------------------------------------------------------------------\u001b[0m",
      "\u001b[0;31mAttributeError\u001b[0m                            Traceback (most recent call last)",
      "\u001b[1;32m/Users/jetafese/Documents/code/spacer-on-jupyter/knowldege_check.ipynb Cell 6\u001b[0m line \u001b[0;36m2\n\u001b[1;32m      <a href='vscode-notebook-cell:/Users/jetafese/Documents/code/spacer-on-jupyter/knowldege_check.ipynb#X31sZmlsZQ%3D%3D?line=0'>1</a>\u001b[0m test \u001b[39m=\u001b[39m And(\u001b[39m2\u001b[39m\u001b[39m*\u001b[39mx \u001b[39m+\u001b[39m \u001b[39m3\u001b[39m\u001b[39m*\u001b[39my \u001b[39m+\u001b[39m \u001b[39m4\u001b[39m \u001b[39m<\u001b[39m\u001b[39m=\u001b[39m \u001b[39m0\u001b[39m, \u001b[39m3\u001b[39m\u001b[39m*\u001b[39my \u001b[39m+\u001b[39m \u001b[39m2\u001b[39m \u001b[39m<\u001b[39m\u001b[39m=\u001b[39m \u001b[39m0\u001b[39m)\n\u001b[0;32m----> <a href='vscode-notebook-cell:/Users/jetafese/Documents/code/spacer-on-jupyter/knowldege_check.ipynb#X31sZmlsZQ%3D%3D?line=1'>2</a>\u001b[0m scaled \u001b[39m=\u001b[39m scale(test, \u001b[39m1\u001b[39;49m)\n\u001b[1;32m      <a href='vscode-notebook-cell:/Users/jetafese/Documents/code/spacer-on-jupyter/knowldege_check.ipynb#X31sZmlsZQ%3D%3D?line=2'>3</a>\u001b[0m scaled\n",
      "\u001b[1;32m/Users/jetafese/Documents/code/spacer-on-jupyter/knowldege_check.ipynb Cell 6\u001b[0m line \u001b[0;36m2\n\u001b[1;32m      <a href='vscode-notebook-cell:/Users/jetafese/Documents/code/spacer-on-jupyter/knowldege_check.ipynb#X31sZmlsZQ%3D%3D?line=0'>1</a>\u001b[0m \u001b[39mdef\u001b[39;00m \u001b[39mscale\u001b[39m(formula, k):\n\u001b[0;32m----> <a href='vscode-notebook-cell:/Users/jetafese/Documents/code/spacer-on-jupyter/knowldege_check.ipynb#X31sZmlsZQ%3D%3D?line=1'>2</a>\u001b[0m     \u001b[39mprint\u001b[39m(formula\u001b[39m.\u001b[39;49mnumArgs())\n\u001b[1;32m      <a href='vscode-notebook-cell:/Users/jetafese/Documents/code/spacer-on-jupyter/knowldege_check.ipynb#X31sZmlsZQ%3D%3D?line=2'>3</a>\u001b[0m     \u001b[39mprint\u001b[39m(formula)\n\u001b[1;32m      <a href='vscode-notebook-cell:/Users/jetafese/Documents/code/spacer-on-jupyter/knowldege_check.ipynb#X31sZmlsZQ%3D%3D?line=3'>4</a>\u001b[0m     \u001b[39mreturn\u001b[39;00m formula\n",
      "\u001b[0;31mAttributeError\u001b[0m: 'BoolRef' object has no attribute 'numArgs'"
     ]
    }
   ],
   "source": [
    "test = And(2*x + 3*y + 4 <= 0, 3*y + 2 <= 0)\n",
    "scaled = scale(test, 1)\n",
    "scaled"
   ]
  },
  {
   "cell_type": "markdown",
   "metadata": {},
   "source": [
    "## src"
   ]
  },
  {
   "cell_type": "code",
   "execution_count": 30,
   "metadata": {},
   "outputs": [
    {
     "data": {
      "text/html": [
       "[y0 &gt; 0, 2&middot;x0 + 3&middot;y0 + 4 &le; 0 &and; 3&middot;y0 + 2 &le; 0]"
      ],
      "text/plain": [
       "[And(y0 > 0), And(2*x0 + 3*y0 + 4 <= 0, 3*y0 + 2 <= 0)]"
      ]
     },
     "execution_count": 30,
     "metadata": {},
     "output_type": "execute_result"
    }
   ],
   "source": [
    "# scale(2*x + 3*y + 4 <= 0 && 3*y + 2 <= 0, k) = 2*x + 3*y + 4k <= 0 && 3y + 2k <= 0\n",
    "T = Solver()\n",
    "x, x_out = Ints(\"x0 x1\")\n",
    "y, y_out = Ints(\"y0 y1\")\n",
    "\n",
    "A = And(y > 0)\n",
    "B = And(2*x + 3*y + 4 <= 0, 3*y + 2 <= 0)\n",
    "# Init = x == 0\n",
    "# Tr = Or(And(x < 5, x_out == x + 1), And(x >= 453, x_out == x))\n",
    "# Bad = And(x >= 6)\n",
    "T.add(A)\n",
    "T.add(B)\n",
    "T"
   ]
  },
  {
   "cell_type": "code",
   "execution_count": 34,
   "metadata": {},
   "outputs": [
    {
     "data": {
      "text/html": [
       "<b>unsat</b>"
      ],
      "text/plain": [
       "unsat"
      ]
     },
     "metadata": {},
     "output_type": "display_data"
    },
    {
     "data": {
      "text/html": [
       "&not;(y0 &le; 0)"
      ],
      "text/plain": [
       "Not(y0 <= 0)"
      ]
     },
     "metadata": {},
     "output_type": "display_data"
    },
    {
     "name": "stdout",
     "output_type": "stream",
     "text": [
      "And(2*x0 + 3*y0 + 4 <= 0, 3*y0 + 2 <= 0)\n"
     ]
    }
   ],
   "source": [
    "res = T.check()\n",
    "display(res)\n",
    "\n",
    "if res == sat:\n",
    "    display(T.model())\n",
    "else:\n",
    "    display(interpolate(A, B))"
   ]
  },
  {
   "cell_type": "code",
   "execution_count": 40,
   "metadata": {},
   "outputs": [
    {
     "ename": "AttributeError",
     "evalue": "'BoolRef' object has no attribute 'numArgs'",
     "output_type": "error",
     "traceback": [
      "\u001b[0;31m---------------------------------------------------------------------------\u001b[0m",
      "\u001b[0;31mAttributeError\u001b[0m                            Traceback (most recent call last)",
      "\u001b[1;32m/Users/jetafese/Documents/code/spacer-on-jupyter/knowldege_check.ipynb Cell 9\u001b[0m line \u001b[0;36m2\n\u001b[1;32m      <a href='vscode-notebook-cell:/Users/jetafese/Documents/code/spacer-on-jupyter/knowldege_check.ipynb#X25sZmlsZQ%3D%3D?line=0'>1</a>\u001b[0m \u001b[39mif\u001b[39;00m res \u001b[39m==\u001b[39m unsat:\n\u001b[0;32m----> <a href='vscode-notebook-cell:/Users/jetafese/Documents/code/spacer-on-jupyter/knowldege_check.ipynb#X25sZmlsZQ%3D%3D?line=1'>2</a>\u001b[0m     B2 \u001b[39m=\u001b[39m scale(B, \u001b[39m1\u001b[39;49m)\n\u001b[1;32m      <a href='vscode-notebook-cell:/Users/jetafese/Documents/code/spacer-on-jupyter/knowldege_check.ipynb#X25sZmlsZQ%3D%3D?line=3'>4</a>\u001b[0m T2 \u001b[39m=\u001b[39m Solver()\n\u001b[1;32m      <a href='vscode-notebook-cell:/Users/jetafese/Documents/code/spacer-on-jupyter/knowldege_check.ipynb#X25sZmlsZQ%3D%3D?line=4'>5</a>\u001b[0m T2\u001b[39m.\u001b[39madd(A)\n",
      "\u001b[1;32m/Users/jetafese/Documents/code/spacer-on-jupyter/knowldege_check.ipynb Cell 9\u001b[0m line \u001b[0;36m2\n\u001b[1;32m      <a href='vscode-notebook-cell:/Users/jetafese/Documents/code/spacer-on-jupyter/knowldege_check.ipynb#X25sZmlsZQ%3D%3D?line=0'>1</a>\u001b[0m \u001b[39mdef\u001b[39;00m \u001b[39mscale\u001b[39m(formula, k):\n\u001b[0;32m----> <a href='vscode-notebook-cell:/Users/jetafese/Documents/code/spacer-on-jupyter/knowldege_check.ipynb#X25sZmlsZQ%3D%3D?line=1'>2</a>\u001b[0m     \u001b[39mprint\u001b[39m(formula\u001b[39m.\u001b[39;49mnumArgs())\n\u001b[1;32m      <a href='vscode-notebook-cell:/Users/jetafese/Documents/code/spacer-on-jupyter/knowldege_check.ipynb#X25sZmlsZQ%3D%3D?line=2'>3</a>\u001b[0m     \u001b[39mprint\u001b[39m(formula)\n\u001b[1;32m      <a href='vscode-notebook-cell:/Users/jetafese/Documents/code/spacer-on-jupyter/knowldege_check.ipynb#X25sZmlsZQ%3D%3D?line=3'>4</a>\u001b[0m     \u001b[39mreturn\u001b[39;00m formula\n",
      "\u001b[0;31mAttributeError\u001b[0m: 'BoolRef' object has no attribute 'numArgs'"
     ]
    }
   ],
   "source": [
    "if res == unsat:\n",
    "    B2 = scale(B, 1)\n",
    "\n",
    "T2 = Solver()\n",
    "T2.add(A)\n",
    "T2.add(B2)\n",
    "\n",
    "resScaled = T2.check()\n",
    "display(resScaled)\n",
    "\n",
    "if resScaled == sat:\n",
    "    display(T2.model())\n",
    "else:\n",
    "    display(interpolate(A, B2))"
   ]
  },
  {
   "cell_type": "markdown",
   "metadata": {},
   "source": [
    "# Experiments with IC3"
   ]
  },
  {
   "cell_type": "code",
   "execution_count": 5,
   "metadata": {},
   "outputs": [],
   "source": [
    "T = Solver()\n",
    "x, x_out = Ints(\"x0 x1\")\n",
    "\n",
    "Init = x == 0\n",
    "Tr = Or(And(x < 5, x_out == x + 1), And(x >= 453, x_out == x))\n",
    "Bad = And(x >= 6)"
   ]
  },
  {
   "cell_type": "code",
   "execution_count": 6,
   "metadata": {},
   "outputs": [
    {
     "data": {
      "text/html": [
       "[x0 = 6]"
      ],
      "text/plain": [
       "[x0 = 6]"
      ]
     },
     "execution_count": 6,
     "metadata": {},
     "output_type": "execute_result"
    }
   ],
   "source": [
    "T = Solver()\n",
    "F2 =[]\n",
    "T.add(*F2)\n",
    "T.add(Bad)\n",
    "T.check()\n",
    "T.model()"
   ]
  },
  {
   "cell_type": "code",
   "execution_count": 7,
   "metadata": {},
   "outputs": [
    {
     "data": {
      "text/html": [
       "x1 &ge; 6"
      ],
      "text/plain": [
       "And(x1 >= 6)"
      ]
     },
     "execution_count": 7,
     "metadata": {},
     "output_type": "execute_result"
    }
   ],
   "source": [
    "# pob = x_out == T.model().eval(x)\n",
    "pob = z3.substitute(Bad, (x, x_out))\n",
    "\n",
    "# pob = [x >= 5, x >= 6]\n",
    "pob"
   ]
  },
  {
   "cell_type": "code",
   "execution_count": 8,
   "metadata": {},
   "outputs": [
    {
     "data": {
      "text/html": [
       "<b>unsat</b>"
      ],
      "text/plain": [
       "unsat"
      ]
     },
     "metadata": {},
     "output_type": "display_data"
    }
   ],
   "source": [
    "S = Solver()\n",
    "F1 = [Not(And(x >= 6))]\n",
    "S.add(*F1)\n",
    "S.add(Tr)\n",
    "S.add(pob)\n",
    "res = S.check()\n",
    "if res == sat:\n",
    "    display(S.model())\n",
    "else:\n",
    "    display(res)\n"
   ]
  },
  {
   "cell_type": "code",
   "execution_count": 9,
   "metadata": {},
   "outputs": [
    {
     "data": {
      "text/html": [
       "x1 &ge; 6"
      ],
      "text/plain": [
       "And(x1 >= 6)"
      ]
     },
     "execution_count": 9,
     "metadata": {},
     "output_type": "execute_result"
    }
   ],
   "source": [
    "\n",
    "pob_1 = z3.substitute(z3.And(x >= 6), (x, x_out))\n",
    "pob_1"
   ]
  },
  {
   "cell_type": "code",
   "execution_count": 62,
   "metadata": {},
   "outputs": [
    {
     "data": {
      "text/html": [
       "<b>unsat</b>"
      ],
      "text/plain": [
       "unsat"
      ]
     },
     "metadata": {},
     "output_type": "display_data"
    }
   ],
   "source": [
    "S1 = Solver()\n",
    "F0 = [Init]\n",
    "S1.add(*F0)\n",
    "S1.add(Tr)\n",
    "S1.add(pob_1)\n",
    "res = S1.check()\n",
    "if res == sat:\n",
    "    display(S.model())\n",
    "else:\n",
    "    display(res)"
   ]
  },
  {
   "cell_type": "code",
   "execution_count": 66,
   "metadata": {},
   "outputs": [],
   "source": [
    "\n",
    "proxy, proxy2 = z3.Bools('proxy proxy2')"
   ]
  },
  {
   "cell_type": "code",
   "execution_count": 78,
   "metadata": {},
   "outputs": [
    {
     "data": {
      "text/html": [
       "[proxy &rArr; x0 &gt; 0 &and; x0 &lt; 2,\n",
       " proxy2 &rArr; x1 &gt; 0 &and; x1 &lt; 2,\n",
       " a &rArr; x0 &gt; 1]"
      ],
      "text/plain": [
       "[Implies(proxy, And(x0 > 0, x0 < 2)),\n",
       " Implies(proxy2, And(x1 > 0, x1 < 2)),\n",
       " Implies(a, x0 > 1)]"
      ]
     },
     "execution_count": 78,
     "metadata": {},
     "output_type": "execute_result"
    }
   ],
   "source": [
    "s = z3.Solver()\n",
    "s.add(z3.Implies(proxy, z3.And(x > 0, x < 2)))\n",
    "s.add(z3.Implies(proxy2, z3.And(x_out > 0, x_out < 2)))\n",
    "a = z3.Bool('a')\n",
    "s.add(z3.Implies(a, x > 1))\n",
    "s"
   ]
  },
  {
   "cell_type": "code",
   "execution_count": 80,
   "metadata": {},
   "outputs": [
    {
     "data": {
      "text/html": [
       "<b>unsat</b>"
      ],
      "text/plain": [
       "unsat"
      ]
     },
     "execution_count": 80,
     "metadata": {},
     "output_type": "execute_result"
    }
   ],
   "source": [
    "s.check(proxy, z3.Not(proxy2), a)"
   ]
  },
  {
   "cell_type": "code",
   "execution_count": 79,
   "metadata": {},
   "outputs": [
    {
     "data": {
      "text/html": [
       "<b>sat</b>"
      ],
      "text/plain": [
       "sat"
      ]
     },
     "execution_count": 79,
     "metadata": {},
     "output_type": "execute_result"
    }
   ],
   "source": [
    "s.check(proxy2, a)"
   ]
  }
 ],
 "metadata": {
  "kernelspec": {
   "display_name": "venv",
   "language": "python",
   "name": "python3"
  },
  "language_info": {
   "codemirror_mode": {
    "name": "ipython",
    "version": 3
   },
   "file_extension": ".py",
   "mimetype": "text/x-python",
   "name": "python",
   "nbconvert_exporter": "python",
   "pygments_lexer": "ipython3",
   "version": "3.10.13"
  },
  "orig_nbformat": 4
 },
 "nbformat": 4,
 "nbformat_minor": 2
}
